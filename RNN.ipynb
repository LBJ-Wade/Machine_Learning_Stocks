{
 "cells": [
  {
   "cell_type": "code",
   "execution_count": 2,
   "metadata": {},
   "outputs": [
    {
     "name": "stderr",
     "output_type": "stream",
     "text": [
      "Using TensorFlow backend.\n"
     ]
    }
   ],
   "source": [
    "#https://github.com/Kulbear/stock-prediction/blob/master/stock-prediction.ipynb\n",
    "import time\n",
    "import math\n",
    "from keras.models import Sequential\n",
    "from keras.layers.core import Dense, Dropout, Activation\n",
    "from keras.layers import Concatenate\n",
    "from keras.layers.recurrent import LSTM\n",
    "import numpy as np\n",
    "import pandas as pd\n",
    "import sklearn.preprocessing as prep\n",
    "import matplotlib.pyplot as plt"
   ]
  },
  {
   "cell_type": "code",
   "execution_count": 443,
   "metadata": {},
   "outputs": [],
   "source": [
    "def build_model(size, window, num_neurons, out_dim, D = [0.1, 0.1, 0.1]):\n",
    "    #Create RNN\n",
    "    RNN = Sequential()\n",
    "    #First LSTM Layer\n",
    "    RNN.add(LSTM(num_neurons[0], input_shape=(window, size),\n",
    "                 return_sequences = True, dropout = D[0]))\n",
    "    RNN.add(Activation('tanh'))\n",
    "    \n",
    "    #Second LSTM Layer\n",
    "    RNN.add(LSTM(num_neurons[1], return_sequences=True, dropout = D[1]))\n",
    "    RNN.add(Activation('tanh'))\n",
    "    \n",
    "    #Third LSTM Layer\n",
    "    RNN.add(LSTM(num_neurons[2], return_sequences=False, dropout = D[2]))\n",
    "    RNN.add(Activation('tanh'))\n",
    "\n",
    "    #First Dense Layer\n",
    "    RNN.add(Dense(num_neurons[3]))\n",
    "    RNN.add(Activation('tanh'))\n",
    "    \n",
    "    #Second Dense Layer\n",
    "    RNN.add(Dense(out_dim))\n",
    "    RNN.add(Activation('relu'))\n",
    "\n",
    "    start = time.clock()\n",
    "    RNN.compile(loss='mean_absolute_percentage_error', optimizer='adam', metrics=['accuracy'])\n",
    "    print 'Compilation Time:', time.clock() - start\n",
    "    return RNN\n",
    "\n",
    "def normalize(data, buffer = 1.25, log = True):\n",
    "    #Normalize data to be between 0 and 1\n",
    "    if log:\n",
    "        norm = np.log(data)\n",
    "    else:\n",
    "        norm = data\n",
    "    minimum = norm.min()\n",
    "    norm = norm - minimum\n",
    "    maximum = norm.max()\n",
    "    norm = norm / (maximum * buffer)\n",
    "    return norm, minimum, maximum\n",
    "\n",
    "def unnormalize(data, minimum, maximum, buffer = 1.25, log = True):\n",
    "    unorm = data * maximum * buffer\n",
    "    unorm = unorm + minimum\n",
    "    if log:\n",
    "        unorm = np.exp(unorm)\n",
    "    return unorm    \n",
    "\n",
    "def preprocess_data(stock, sequence_length, forecast = 5, diff = 0, percent_train = 0.9):\n",
    "    #Normalize data\n",
    "    stock, _, _ = normalize(stock)\n",
    "    \n",
    "    num_features = stock.shape[1]\n",
    "    sequence_length += 1\n",
    "    \n",
    "    #Create array of windows\n",
    "    result = np.zeros((len(stock) - sequence_length - forecast, sequence_length, num_features))\n",
    "    for i in range(len(result)):\n",
    "        result[i] = (stock[i:i + sequence_length])\n",
    "\n",
    "    #Use certain percentage of the data for training\n",
    "    cutoff = int(round(percent_train * len(result)))\n",
    "    #cutoff = 810\n",
    "       \n",
    "    #y data is the last row of each window, X data is all other rows\n",
    "    X_train = result[:cutoff-np.max([diff,0]),:-1,:]\n",
    "    if diff > 0:\n",
    "        X_test = result[cutoff-diff:-diff,:-1,:]\n",
    "        y_train = result[diff:cutoff,-1,:]\n",
    "    else:\n",
    "        X_test = result[cutoff:,:-1,:]\n",
    "        y_train = result[:cutoff,-1,:]\n",
    "    y_test = result[cutoff:,-1,:]\n",
    "    \n",
    "    y_train = np.zeros((len(X_train),forecast))\n",
    "    y_test = np.zeros((len(X_test),forecast))\n",
    "    \n",
    "    for i in range(len(y_train)):\n",
    "        y_train[i] = stock[window+i:window+i+forecast,0]\n",
    "    for i in range(len(y_test)):\n",
    "        y_test[i] = stock[window+len(y_train)+i:window+len(y_train)+i+forecast,0]\n",
    "\n",
    "    return [X_train, y_train, X_test, y_test]\n",
    "\n",
    "\n",
    "#def forecast(X, model, time_steps = 10):\n",
    "#    forecast = np.zeros((time_steps, X.shape[2]))    \n",
    "#    for i in range(time_steps):\n",
    "#        p = model.predict(X)\n",
    "#        s = np.zeros(X.shape)\n",
    "#        s[:,:-1] = X[:,1:]\n",
    "#        s[:,-1] = p\n",
    "#        X = np.copy(s)\n",
    "#        forecast[i] = s[0,-1]\n",
    "#        \n",
    "#    return forecast"
   ]
  },
  {
   "cell_type": "code",
   "execution_count": 438,
   "metadata": {
    "collapsed": true
   },
   "outputs": [],
   "source": [
    "data = np.loadtxt('DailyStocks.dat')\n",
    "googdata = np.loadtxt('Google.dat')[:,:-2]"
   ]
  },
  {
   "cell_type": "code",
   "execution_count": 439,
   "metadata": {
    "scrolled": false
   },
   "outputs": [
    {
     "name": "stdout",
     "output_type": "stream",
     "text": [
      "X_train: (779, 20, 4)\n",
      "y_train: (779, 5)\n",
      "X_test: (195, 20, 4)\n",
      "y_test: (195, 5)\n"
     ]
    }
   ],
   "source": [
    "window = 20\n",
    "X_train, y_train, X_test, y_test = preprocess_data(data, window, percent_train = 0.8, diff = 0, forecast = 5)\n",
    "\n",
    "print \"X_train:\", X_train.shape\n",
    "print \"y_train:\", y_train.shape\n",
    "print \"X_test:\", X_test.shape\n",
    "print \"y_test:\", y_test.shape"
   ]
  },
  {
   "cell_type": "code",
   "execution_count": 445,
   "metadata": {},
   "outputs": [
    {
     "name": "stdout",
     "output_type": "stream",
     "text": [
      "Compilation Time: 0.0469089999997\n"
     ]
    }
   ],
   "source": [
    "r = 64\n",
    "num_neurons = [r, 2*r, 2*r, r]\n",
    "num_inputs = X_train.shape[-1]\n",
    "num_outputs = y_train.shape[-1]\n",
    "model = build_model(num_inputs, window, num_neurons, num_outputs)"
   ]
  },
  {
   "cell_type": "code",
   "execution_count": 451,
   "metadata": {
    "scrolled": false
   },
   "outputs": [
    {
     "name": "stdout",
     "output_type": "stream",
     "text": [
      "312.568363\n",
      "Train Score: 13.643143 MSE (3.693663 RMSE)\n",
      "Test Score: 7.241294 MSE (2.690965 RMSE)\n",
      "Google Score: 11.002975 MSE (3.317073 RMSE)\n"
     ]
    }
   ],
   "source": [
    "start = time.clock()\n",
    "model.fit(\n",
    "    X_train,\n",
    "    y_train,\n",
    "    batch_size=len(X_train) / 8,\n",
    "    epochs=50,\n",
    "    validation_split=0.1,\n",
    "    verbose=0)\n",
    "print time.clock() - start\n",
    "\n",
    "model.save('RNN_Model.h5')\n",
    "\n",
    "trainScore = model.evaluate(X_train, y_train, verbose=0)\n",
    "print('Train Score: %.6f MSE (%.6f RMSE)' % (trainScore[0], math.sqrt(trainScore[0])))\n",
    "\n",
    "testScore = model.evaluate(X_test, y_test, verbose=0)\n",
    "print('Test Score: %.6f MSE (%.6f RMSE)' % (testScore[0], math.sqrt(testScore[0])))\n",
    "\n",
    "testScore = model.evaluate(google_train, google_test, verbose=0)\n",
    "print('Google Score: %.6f MSE (%.6f RMSE)' % (testScore[0], math.sqrt(testScore[0])))"
   ]
  },
  {
   "cell_type": "code",
   "execution_count": 429,
   "metadata": {},
   "outputs": [
    {
     "data": {
      "image/png": "[encoded data removed]",
      "text/plain": [
       "<matplotlib.figure.Figure at 0x7f25fef49710>"
      ]
     },
     "metadata": {},
     "output_type": "display_data"
    }
   ],
   "source": [
    "alpha = model.predict(X_test)[:,0]\n",
    "plt.plot(y_test[:,0], 'b', label='Ground Truth')\n",
    "plt.plot(alpha, 'r', label='Prediction')\n",
    "#plt.plot(alpha[:,-1], 'g', label='Forecast')\n",
    "#plt.plot(alpha - y_test[:,0,np.newaxis], label='Difference')\n",
    "plt.legend(loc='best')\n",
    "plt.show()"
   ]
  },
  {
   "cell_type": "code",
   "execution_count": 346,
   "metadata": {
    "scrolled": false
   },
   "outputs": [],
   "source": [
    "google, mu, sig = normalize(googdata)\n",
    "\n",
    "t = unnormalize(google, mu, sig)"
   ]
  },
  {
   "cell_type": "code",
   "execution_count": 410,
   "metadata": {},
   "outputs": [],
   "source": [
    "google_train, google_test, _, _ = preprocess_data(googdata, window, percent_train = 1)"
   ]
  },
  {
   "cell_type": "code",
   "execution_count": 363,
   "metadata": {},
   "outputs": [],
   "source": [
    "beta = model.predict(google_train)"
   ]
  },
  {
   "cell_type": "code",
   "execution_count": 391,
   "metadata": {
    "scrolled": false
   },
   "outputs": [
    {
     "data": {
      "image/png": "[encoded data removed]",
      "text/plain": [
       "<matplotlib.figure.Figure at 0x7f25fea4c6d0>"
      ]
     },
     "metadata": {},
     "output_type": "display_data"
    }
   ],
   "source": [
    "plt.plot(google[window:,0], 'b', label = 'Ground Truth')\n",
    "plt.plot(beta[:-window,0], 'r', label = 'Prediction')\n",
    "#plt.plot(beta[:,0] / google[:-26,0] - 1)\n",
    "#plt.ylim(-0.5,0.5)\n",
    "plt.title('Google')\n",
    "plt.legend()\n",
    "plt.show()"
   ]
  },
  {
   "cell_type": "code",
   "execution_count": 259,
   "metadata": {
    "collapsed": true
   },
   "outputs": [],
   "source": [
    "r = model.predict(google_train)"
   ]
  },
  {
   "cell_type": "code",
   "execution_count": 411,
   "metadata": {},
   "outputs": [
    {
     "name": "stdout",
     "output_type": "stream",
     "text": [
      "Test Score: 14.837807 MSE (3.851987 RMSE)\n"
     ]
    }
   ],
   "source": [
    "testScore = model.evaluate(google_train, google_test, verbose=0)\n",
    "print('Test Score: %.6f MSE (%.6f RMSE)' % (testScore[0], math.sqrt(testScore[0])))"
   ]
  },
  {
   "cell_type": "code",
   "execution_count": 426,
   "metadata": {},
   "outputs": [
    {
     "name": "stdout",
     "output_type": "stream",
     "text": [
      "[1, 2, 1, 1, 2, 1, 1, 2, 1, 1, 2, 1, 1, 2, 1, 1, 2, 1, 1, 2, 1, 1, 2, 1, 1, 2, 1, 1, 2, 1, 1, 2, 1, 1, 2, 1, 1, 2, 1, 1, 2, 1, 1, 2, 1, 1, 2, 1, 1, 2, 1, 1, 2, 1, 1, 2, 1, 1, 2, 1, 1, 2, 1, 1, 2, 1, 1, 2, 1, 1, 2, 1, 1, 2, 1, 1, 2, 1, 1, 2, 1, 1, 2, 1, 1, 2, 1, 1, 2, 1, 1, 2, 1, 1, 2, 1]\n"
     ]
    }
   ],
   "source": [
    "print 32*[1, 2, 1]"
   ]
  },
  {
   "cell_type": "code",
   "execution_count": null,
   "metadata": {
    "collapsed": true
   },
   "outputs": [],
   "source": []
  }
 ],
 "metadata": {
  "kernelspec": {
   "display_name": "Python 2",
   "language": "python",
   "name": "python2"
  },
  "language_info": {
   "codemirror_mode": {
    "name": "ipython",
    "version": 2
   },
   "file_extension": ".py",
   "mimetype": "text/x-python",
   "name": "python",
   "nbconvert_exporter": "python",
   "pygments_lexer": "ipython2",
   "version": "2.7.13"
  }
 },
 "nbformat": 4,
 "nbformat_minor": 2
}
