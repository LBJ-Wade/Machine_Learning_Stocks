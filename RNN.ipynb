{
 "cells": [
  {
   "cell_type": "code",
   "execution_count": 1,
   "metadata": {},
   "outputs": [
    {
     "name": "stderr",
     "output_type": "stream",
     "text": [
      "Using TensorFlow backend.\n"
     ]
    }
   ],
   "source": [
    "#https://github.com/Kulbear/stock-prediction/blob/master/stock-prediction.ipynb\n",
    "import time\n",
    "import math\n",
    "from keras.models import Sequential\n",
    "from keras.layers.core import Dense, Dropout, Activation\n",
    "from keras.layers.recurrent import LSTM\n",
    "import numpy as np\n",
    "import pandas as pd\n",
    "import sklearn.preprocessing as prep"
   ]
  },
  {
   "cell_type": "code",
   "execution_count": 2,
   "metadata": {},
   "outputs": [],
   "source": [
    "def build_model(layers, act = 'linear', D1 = 0.25, D2 = 0.25):\n",
    "    model = Sequential()\n",
    "\n",
    "    #First LSTM Layer\n",
    "    model.add(LSTM(\n",
    "        units=layers[1],\n",
    "        input_shape=(layers[1],layers[0]),\n",
    "        return_sequences = True))\n",
    "    model.add(Dropout(D1))\n",
    "\n",
    "    #Second LSTM Layer\n",
    "    model.add(LSTM(\n",
    "        layers[2],\n",
    "        return_sequences=False))\n",
    "    model.add(Dropout(D2))\n",
    "\n",
    "    #Final Dense Layer\n",
    "    model.add(Dense(\n",
    "        units = layers[3]))\n",
    "    model.add(Activation(act))\n",
    "\n",
    "    start = time.clock()\n",
    "    model.compile(loss='mean_squared_error', optimizer='adam', metrics=['accuracy'])\n",
    "    print('Compilation Time : ', time.clock() - start)\n",
    "    return model\n",
    "\n",
    "def standard_scaler(X_train, X_test):\n",
    "    train_samples, train_nx, train_ny = X_train.shape\n",
    "    test_samples, test_nx, test_ny = X_test.shape\n",
    "    \n",
    "    X_train = X_train.reshape((train_samples, train_nx * train_ny))\n",
    "    X_test = X_test.reshape((test_samples, test_nx * test_ny))\n",
    "    \n",
    "    preprocessor = prep.StandardScaler().fit(X_train)\n",
    "    X_train = preprocessor.transform(X_train)\n",
    "    X_test = preprocessor.transform(X_test)\n",
    "    \n",
    "    X_train = X_train.reshape((train_samples, train_nx, train_ny))\n",
    "    X_test = X_test.reshape((test_samples, test_nx, test_ny))\n",
    "    \n",
    "    return X_train, X_test\n",
    "\n",
    "def preprocess_data(stock, sequence_length, percent_train = 0.9):\n",
    "    num_features = stock.shape[1]\n",
    "    sequence_length += 1\n",
    "    \n",
    "    #TODO\n",
    "    #Rewrite this to use arrays from the beginning, it will speed up the computation\n",
    "    result = []\n",
    "    #Create list of windows\n",
    "    for index in range(len(stock) - sequence_length):\n",
    "        result.append(data[index : index + sequence_length])\n",
    "        \n",
    "    result = np.array(result)\n",
    "    #Use certain percentage of the data for training\n",
    "    row = round(percent_train * result.shape[0])\n",
    "    train = result[:int(row),:]\n",
    "    \n",
    "    train, result = standard_scaler(train, result)\n",
    "    \n",
    "    X_train = train[:,:-1]\n",
    "    y_train = train[:,-1][:,-1]\n",
    "    X_test = result[int(row):,:-1]\n",
    "    y_test = result[int(row):,-1][:,-1]\n",
    "\n",
    "    X_train = np.reshape(X_train, (X_train.shape[0], X_train.shape[1], num_features))\n",
    "    X_test = np.reshape(X_test, (X_test.shape[0], X_test.shape[1], num_features))  \n",
    "\n",
    "    return [X_train, y_train, X_test, y_test]"
   ]
  },
  {
   "cell_type": "code",
   "execution_count": 3,
   "metadata": {},
   "outputs": [],
   "source": [
    "data = np.loadtxt('DailyStocks.dat')\n",
    "#data = np.hstack((data,np.real(np.fft.fft(data)),np.imag(np.fft.fft(data))))"
   ]
  },
  {
   "cell_type": "code",
   "execution_count": 13,
   "metadata": {
    "scrolled": false
   },
   "outputs": [
    {
     "name": "stdout",
     "output_type": "stream",
     "text": [
      "X_train: (881, 20, 4)\n",
      "y_train: (881,)\n",
      "X_test: (98, 20, 4)\n",
      "y_test: (98,)\n"
     ]
    }
   ],
   "source": [
    "window = 20\n",
    "X_train, y_train, X_test, y_test = preprocess_data(data, window)\n",
    "print \"X_train:\", X_train.shape\n",
    "print \"y_train:\", y_train.shape\n",
    "print \"X_test:\", X_test.shape\n",
    "print \"y_test:\", y_test.shape"
   ]
  },
  {
   "cell_type": "code",
   "execution_count": 5,
   "metadata": {},
   "outputs": [
    {
     "name": "stdout",
     "output_type": "stream",
     "text": [
      "('Compilation Time : ', 0.05446799999999996)\n"
     ]
    }
   ],
   "source": [
    "num_neurons = 128\n",
    "out_dim = 1\n",
    "model = build_model([X_train.shape[2], window, num_neurons, out_dim], D1 = 0.1, D2 = 0.1)"
   ]
  },
  {
   "cell_type": "code",
   "execution_count": 6,
   "metadata": {
    "scrolled": false
   },
   "outputs": [
    {
     "name": "stdout",
     "output_type": "stream",
     "text": [
      "74.656193\n"
     ]
    }
   ],
   "source": [
    "start = time.clock()\n",
    "model.fit(\n",
    "    X_train,\n",
    "    y_train,\n",
    "    batch_size=100,\n",
    "    epochs=25,\n",
    "    validation_split=0.1,\n",
    "    verbose=0)\n",
    "print time.clock() - start"
   ]
  },
  {
   "cell_type": "code",
   "execution_count": 7,
   "metadata": {},
   "outputs": [
    {
     "name": "stdout",
     "output_type": "stream",
     "text": [
      "Train Score: 0.0195 MSE (0.1396 RMSE)\n",
      "Test Score: 0.0169 MSE (0.1299 RMSE)\n"
     ]
    }
   ],
   "source": [
    "trainScore = model.evaluate(X_train, y_train, verbose=0)\n",
    "print('Train Score: %.4f MSE (%.4f RMSE)' % (trainScore[0], math.sqrt(trainScore[0])))\n",
    "\n",
    "testScore = model.evaluate(X_test, y_test, verbose=0)\n",
    "print('Test Score: %.4f MSE (%.4f RMSE)' % (testScore[0], math.sqrt(testScore[0])))"
   ]
  },
  {
   "cell_type": "code",
   "execution_count": 10,
   "metadata": {},
   "outputs": [
    {
     "data": {
      "image/png": "[encoded data removed]",
      "text/plain": [
       "<matplotlib.figure.Figure at 0x7f08d27e4910>"
      ]
     },
     "metadata": {},
     "output_type": "display_data"
    }
   ],
   "source": [
    "import matplotlib.pyplot as plt\n",
    "\n",
    "plt.plot(model.predict(X_test), color='red', label='Prediction')\n",
    "plt.plot(y_test, color='blue', label='Ground Truth')\n",
    "plt.legend(loc='upper left')\n",
    "plt.show()"
   ]
  },
  {
   "cell_type": "code",
   "execution_count": 9,
   "metadata": {},
   "outputs": [
    {
     "ename": "NameError",
     "evalue": "name 'clean' is not defined",
     "output_type": "error",
     "traceback": [
      "\u001b[0;31m---------------------------------------------------------------------------\u001b[0m",
      "\u001b[0;31mNameError\u001b[0m                                 Traceback (most recent call last)",
      "\u001b[0;32m<ipython-input-9-c1cecfedf8b6>\u001b[0m in \u001b[0;36m<module>\u001b[0;34m()\u001b[0m\n\u001b[0;32m----> 1\u001b[0;31m \u001b[0mplt\u001b[0m\u001b[0;34m.\u001b[0m\u001b[0mplot\u001b[0m\u001b[0;34m(\u001b[0m\u001b[0mclean\u001b[0m\u001b[0;34m[\u001b[0m\u001b[0;34m:\u001b[0m\u001b[0;34m,\u001b[0m\u001b[0;36m0\u001b[0m\u001b[0;34m]\u001b[0m\u001b[0;34m)\u001b[0m\u001b[0;34m\u001b[0m\u001b[0m\n\u001b[0m\u001b[1;32m      2\u001b[0m \u001b[0mplt\u001b[0m\u001b[0;34m.\u001b[0m\u001b[0mshow\u001b[0m\u001b[0;34m(\u001b[0m\u001b[0;34m)\u001b[0m\u001b[0;34m\u001b[0m\u001b[0m\n",
      "\u001b[0;31mNameError\u001b[0m: name 'clean' is not defined"
     ]
    }
   ],
   "source": [
    "plt.plot(clean[:,0])\n",
    "plt.show()"
   ]
  },
  {
   "cell_type": "code",
   "execution_count": null,
   "metadata": {},
   "outputs": [],
   "source": [
    "print X_train.shape[2]"
   ]
  },
  {
   "cell_type": "code",
   "execution_count": 11,
   "metadata": {
    "scrolled": false
   },
   "outputs": [
    {
     "name": "stdout",
     "output_type": "stream",
     "text": [
      "[ -2.15361062e-15   5.92659255e-15  -3.05222514e-15  -1.45106149e-15\n",
      "   3.33066907e-17  -2.35367281e-17   2.70894418e-17  -1.44328993e-16\n",
      "   0.00000000e+00   0.00000000e+00  -4.26325641e-17   7.10542736e-18]\n",
      "[ 1.  1.  1.  1.  1.  1.  1.  1.  1.  1.  1.  1.]\n",
      "(1000, 12)\n",
      "[[  2.09873599e+00   2.05140917e+00   2.05177373e+00 ...,  -4.06588749e-18\n",
      "    2.02196408e-18  -2.87061222e-17]\n",
      " [  2.12629443e+00   2.21370101e+00   2.19630432e+00 ...,   1.70810770e+01\n",
      "    1.70738843e+01   1.70740322e+01]\n",
      " [  2.21971122e+00   2.29248657e+00   2.28122531e+00 ...,  -1.01598559e+01\n",
      "   -1.01568250e+01  -1.01715800e+01]\n",
      " ..., \n",
      " [  1.07312906e+00   9.86941358e-01   1.05004899e+00 ...,   8.33944576e+00\n",
      "    8.36266815e+00   8.35885956e+00]\n",
      " [  1.09947631e+00   1.07175449e+00   1.06825163e+00 ...,   1.01598559e+01\n",
      "    1.01568250e+01   1.01715800e+01]\n",
      " [  1.14546674e+00   1.17254774e+00   1.14690218e+00 ...,  -1.70810770e+01\n",
      "   -1.70738843e+01  -1.70740322e+01]]\n"
     ]
    }
   ],
   "source": [
    "clean = np.hstack((data, np.real(np.fft.fft(data, axis=0)), np.imag(np.fft.fft(data, axis=0))))\n",
    "clean = (clean - clean.mean(axis=0)) / clean.std(axis=0)\n",
    "print clean.mean(axis=0)\n",
    "print clean.std(axis=0)\n",
    "print clean.shape\n",
    "print clean"
   ]
  },
  {
   "cell_type": "code",
   "execution_count": null,
   "metadata": {},
   "outputs": [],
   "source": [
    "np.savetxt('test.dat', np.fft.fft(data, axis=0), delimiter=',')"
   ]
  },
  {
   "cell_type": "code",
   "execution_count": null,
   "metadata": {},
   "outputs": [],
   "source": [
    "plt.plot(clean[:,-1])\n",
    "plt.show()"
   ]
  },
  {
   "cell_type": "code",
   "execution_count": null,
   "metadata": {
    "collapsed": true
   },
   "outputs": [],
   "source": []
  }
 ],
 "metadata": {
  "kernelspec": {
   "display_name": "Python 2",
   "language": "python",
   "name": "python2"
  },
  "language_info": {
   "codemirror_mode": {
    "name": "ipython",
    "version": 2
   },
   "file_extension": ".py",
   "mimetype": "text/x-python",
   "name": "python",
   "nbconvert_exporter": "python",
   "pygments_lexer": "ipython2",
   "version": "2.7.13"
  }
 },
 "nbformat": 4,
 "nbformat_minor": 2
}
