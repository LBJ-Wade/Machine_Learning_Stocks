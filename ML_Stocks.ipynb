{
 "cells": [
  {
   "cell_type": "code",
   "execution_count": 1,
   "metadata": {},
   "outputs": [
    {
     "name": "stderr",
     "output_type": "stream",
     "text": [
      "/home/brady/anaconda2/lib/python2.7/site-packages/matplotlib/cbook.py:136: MatplotlibDeprecationWarning: The finance module has been deprecated in mpl 2.0 and will be removed in mpl 2.2. Please use the module mpl_finance instead.\n",
      "  warnings.warn(message, mplDeprecation, stacklevel=1)\n"
     ]
    }
   ],
   "source": [
    "import numpy as np\n",
    "import matplotlib.pyplot as plt\n",
    "from matplotlib.finance import candlestick2_ochl\n",
    "import pandas_datareader as pdr\n",
    "import time"
   ]
  },
  {
   "cell_type": "code",
   "execution_count": 2,
   "metadata": {
    "collapsed": true
   },
   "outputs": [],
   "source": [
    "def get_day_data(stock):\n",
    "    stock = stock.reshape(-1,1440)\n",
    "    open_price = stock[:,570]\n",
    "    close_price = stock[:,960]\n",
    "    high_price = np.amax(stock[:,570:960], axis = 1)\n",
    "    low_price = np.amin(stock[:,570:960], axis = 1)\n",
    "    return np.vstack((open_price, close_price, high_price, low_price)).T"
   ]
  },
  {
   "cell_type": "code",
   "execution_count": 3,
   "metadata": {
    "collapsed": true
   },
   "outputs": [],
   "source": [
    "num_days = 20000\n",
    "N = 1440 * num_days\n",
    "t = np.linspace(0, num_days, N)"
   ]
  },
  {
   "cell_type": "code",
   "execution_count": 11,
   "metadata": {},
   "outputs": [
    {
     "name": "stdout",
     "output_type": "stream",
     "text": [
      "113.957817\n"
     ]
    }
   ],
   "source": [
    "S = np.zeros(N)\n",
    "S[0] = 1\n",
    "\n",
    "sigma = 0.02\n",
    "mu = 0.5*sigma**2\n",
    "#sigma = 0.075\n",
    "#mu = 0.05\n",
    "dt = 0.00001\n",
    "\n",
    "start = time.clock() \n",
    "for i in np.arange(1,N):\n",
    "    S[i] = S[i-1] * (1 + mu * dt + sigma * np.sqrt(dt) * np.random.normal(0, 1))\n",
    "end = time.clock()\n",
    "\n",
    "print end - start"
   ]
  },
  {
   "cell_type": "code",
   "execution_count": 14,
   "metadata": {
    "collapsed": true
   },
   "outputs": [],
   "source": [
    "#dat = np.vstack((t,S)).T\n",
    "#np.savetxt('GeoBrown.dat', dat)\n",
    "np.savetxt('DailyStocksBig.dat', get_day_data(1/S))"
   ]
  },
  {
   "cell_type": "code",
   "execution_count": 4,
   "metadata": {
    "collapsed": true,
    "scrolled": false
   },
   "outputs": [],
   "source": [
    "data = np.loadtxt('DailyStocks.dat', delimiter = ' ', unpack = True).T\n",
    "#data = get_day_data(S)"
   ]
  },
  {
   "cell_type": "code",
   "execution_count": 13,
   "metadata": {},
   "outputs": [
    {
     "data": {
      "image/png": "[encoded data removed]",
      "text/plain": [
       "<matplotlib.figure.Figure at 0x7f2868200d10>"
      ]
     },
     "metadata": {},
     "output_type": "display_data"
    }
   ],
   "source": [
    "plt.plot(1/S)\n",
    "plt.show()"
   ]
  },
  {
   "cell_type": "code",
   "execution_count": 52,
   "metadata": {},
   "outputs": [
    {
     "data": {
      "image/png": "[encoded data removed]",
      "text/plain": [
       "<matplotlib.figure.Figure at 0x7f634ed50e90>"
      ]
     },
     "metadata": {},
     "output_type": "display_data"
    }
   ],
   "source": [
    "fig, ax = plt.subplots()\n",
    "candlestick2_ochl(ax, data[0:25,0], data[0:25,1], data[0:25,2], data[0:25,3], width = 0.9)\n",
    "plt.show()"
   ]
  },
  {
   "cell_type": "code",
   "execution_count": 4,
   "metadata": {
    "collapsed": true
   },
   "outputs": [],
   "source": [
    "googleraw = pdr.get_data_yahoo('GOOGL')"
   ]
  },
  {
   "cell_type": "code",
   "execution_count": 46,
   "metadata": {},
   "outputs": [
    {
     "data": {
      "image/png": "[encoded data removed]",
      "text/plain": [
       "<matplotlib.figure.Figure at 0x7f52959d6cd0>"
      ]
     },
     "metadata": {},
     "output_type": "display_data"
    }
   ],
   "source": [
    "google = googleraw[-25:-1]\n",
    "fig, ax = plt.subplots()\n",
    "candlestick2_ochl(ax, google.loc[:,'Open'], google.loc[:,'Close'], google.loc[:,'High'], google.loc[:,'Low'], width = 0.9)\n",
    "plt.show()"
   ]
  },
  {
   "cell_type": "code",
   "execution_count": 36,
   "metadata": {
    "collapsed": true
   },
   "outputs": [],
   "source": [
    "#We want to determine if the stock will close tomorrow at a higher or lower price than today\n",
    "#Create one hot labels for up and down\n",
    "close = data[:,1]\n",
    "diff = close[1:] < close[:-1]\n",
    "hot_labels = (np.vstack((diff, np.logical_not(diff))).T).astype(int)"
   ]
  },
  {
   "cell_type": "code",
   "execution_count": 38,
   "metadata": {},
   "outputs": [
    {
     "name": "stdout",
     "output_type": "stream",
     "text": [
      "999\n"
     ]
    }
   ],
   "source": [
    "print len(hot_labels)"
   ]
  },
  {
   "cell_type": "code",
   "execution_count": 4,
   "metadata": {
    "collapsed": true
   },
   "outputs": [],
   "source": [
    "data = np.loadtxt('DailyStocks.dat', delimiter = ' ', unpack = True).T"
   ]
  },
  {
   "cell_type": "code",
   "execution_count": 24,
   "metadata": {},
   "outputs": [
    {
     "name": "stdout",
     "output_type": "stream",
     "text": [
      "1.0\n",
      "2.27373675443e-16\n"
     ]
    },
    {
     "data": {
      "image/png": "[encoded data removed]",
      "text/plain": [
       "<matplotlib.figure.Figure at 0x7f83f3ed9910>"
      ]
     },
     "metadata": {},
     "output_type": "display_data"
    }
   ],
   "source": [
    "l = np.log(data)\n",
    "\n",
    "d = (l - l.mean()) / l.std()\n",
    "\n",
    "print d.var()\n",
    "print d.mean()\n",
    "\n",
    "plt.plot(d[:,0], label = 'd')\n",
    "plt.plot(data[:,0])\n",
    "plt.legend()\n",
    "plt.show()"
   ]
  },
  {
   "cell_type": "code",
   "execution_count": 7,
   "metadata": {
    "collapsed": true
   },
   "outputs": [],
   "source": [
    "googlearray = googleraw.values"
   ]
  },
  {
   "cell_type": "code",
   "execution_count": 9,
   "metadata": {
    "collapsed": true
   },
   "outputs": [],
   "source": [
    "googlearray = googleraw.values\n",
    "np.savetxt('Google.dat', googlearray)"
   ]
  },
  {
   "cell_type": "code",
   "execution_count": 5,
   "metadata": {},
   "outputs": [
    {
     "name": "stdout",
     "output_type": "stream",
     "text": [
      "[[ 0.99752953  0.99013518  0.99752953  0.98423227]\n",
      " [ 1.00188957  1.01581404  1.02056536  0.99868628]\n",
      " [ 1.0166691   1.02827999  1.03410038  1.0166691 ]\n",
      " ..., \n",
      " [ 0.83526762  0.82170827  0.83787088  0.8215107 ]\n",
      " [ 0.83943604  0.83512794  0.84077209  0.8303772 ]\n",
      " [ 0.84671221  0.8510761   0.85330771  0.84331036]]\n"
     ]
    }
   ],
   "source": [
    "print data"
   ]
  },
  {
   "cell_type": "code",
   "execution_count": 13,
   "metadata": {
    "collapsed": true
   },
   "outputs": [],
   "source": [
    "def make_labels(data, thresh = 0.005):\n",
    "    labels = np.zeros((len(data)-1, 3))\n",
    "    \n",
    "    for i in range(len(data) - 1):\n",
    "        t = data[i,0] / data[i+1,0]\n",
    "        if t > 1 + thresh:\n",
    "            labels[i][0] += 1\n",
    "        elif t < 1 - thresh:\n",
    "            labels[i][1] += 1\n",
    "        else:\n",
    "            labels[i][2] += 1\n",
    "    return labels"
   ]
  },
  {
   "cell_type": "code",
   "execution_count": 18,
   "metadata": {},
   "outputs": [
    {
     "name": "stdout",
     "output_type": "stream",
     "text": [
      "[[ 0.  0.  1.]\n",
      " [ 0.  1.  0.]\n",
      " [ 0.  0.  1.]\n",
      " ..., \n",
      " [ 1.  0.  0.]\n",
      " [ 0.  0.  1.]\n",
      " [ 0.  1.  0.]]\n",
      "[ 395.  388.  216.]\n"
     ]
    }
   ],
   "source": [
    "l = make_labels(data)\n",
    "print l\n",
    "print l.sum(axis=0)"
   ]
  },
  {
   "cell_type": "code",
   "execution_count": 19,
   "metadata": {
    "collapsed": true
   },
   "outputs": [],
   "source": [
    "np.savetxt('StockLabels.dat', np.hstack((data[:-1], l)))"
   ]
  },
  {
   "cell_type": "code",
   "execution_count": 4,
   "metadata": {
    "collapsed": true
   },
   "outputs": [],
   "source": [
    "appleraw = pdr.get_data_yahoo('AAPL')"
   ]
  },
  {
   "cell_type": "code",
   "execution_count": 5,
   "metadata": {
    "collapsed": true
   },
   "outputs": [],
   "source": [
    "np.savetxt('Apple.dat', appleraw.values)"
   ]
  },
  {
   "cell_type": "code",
   "execution_count": null,
   "metadata": {
    "collapsed": true
   },
   "outputs": [],
   "source": []
  }
 ],
 "metadata": {
  "kernelspec": {
   "display_name": "Python 2",
   "language": "python",
   "name": "python2"
  },
  "language_info": {
   "codemirror_mode": {
    "name": "ipython",
    "version": 2
   },
   "file_extension": ".py",
   "mimetype": "text/x-python",
   "name": "python",
   "nbconvert_exporter": "python",
   "pygments_lexer": "ipython2",
   "version": "2.7.13"
  }
 },
 "nbformat": 4,
 "nbformat_minor": 2
}
